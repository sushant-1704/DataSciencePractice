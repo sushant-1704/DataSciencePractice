{
 "cells": [
  {
   "cell_type": "code",
   "execution_count": 1,
   "id": "597a0f9f",
   "metadata": {},
   "outputs": [],
   "source": [
    "import spacy"
   ]
  },
  {
   "cell_type": "code",
   "execution_count": 2,
   "id": "6f43f504",
   "metadata": {},
   "outputs": [],
   "source": [
    "nlp = spacy.load('en_core_web_sm')"
   ]
  },
  {
   "cell_type": "code",
   "execution_count": 3,
   "id": "f2aefa94",
   "metadata": {},
   "outputs": [],
   "source": [
    "doc = nlp(u\"I will google about facebook\")"
   ]
  },
  {
   "cell_type": "code",
   "execution_count": 4,
   "id": "57eed199",
   "metadata": {},
   "outputs": [
    {
     "data": {
      "text/plain": [
       "'I will google about facebook'"
      ]
     },
     "execution_count": 4,
     "metadata": {},
     "output_type": "execute_result"
    }
   ],
   "source": [
    "doc.text"
   ]
  },
  {
   "cell_type": "code",
   "execution_count": 5,
   "id": "2b7b7db4",
   "metadata": {},
   "outputs": [
    {
     "data": {
      "text/plain": [
       "facebook"
      ]
     },
     "execution_count": 5,
     "metadata": {},
     "output_type": "execute_result"
    }
   ],
   "source": [
    "doc[-1]"
   ]
  },
  {
   "cell_type": "code",
   "execution_count": 6,
   "id": "166ed899",
   "metadata": {},
   "outputs": [
    {
     "data": {
      "text/plain": [
       "'VERB'"
      ]
     },
     "execution_count": 6,
     "metadata": {},
     "output_type": "execute_result"
    }
   ],
   "source": [
    "doc[2].pos_"
   ]
  },
  {
   "cell_type": "code",
   "execution_count": 7,
   "id": "cc17ff79",
   "metadata": {},
   "outputs": [
    {
     "data": {
      "text/plain": [
       "'VB'"
      ]
     },
     "execution_count": 7,
     "metadata": {},
     "output_type": "execute_result"
    }
   ],
   "source": [
    "doc[2].tag_"
   ]
  },
  {
   "cell_type": "code",
   "execution_count": 8,
   "id": "a08e23be",
   "metadata": {},
   "outputs": [
    {
     "data": {
      "text/plain": [
       "'verb, base form'"
      ]
     },
     "execution_count": 8,
     "metadata": {},
     "output_type": "execute_result"
    }
   ],
   "source": [
    "spacy.explain('VB')"
   ]
  },
  {
   "cell_type": "code",
   "execution_count": 9,
   "id": "73bdb74f",
   "metadata": {},
   "outputs": [
    {
     "name": "stdout",
     "output_type": "stream",
     "text": [
      "I ------> PRON PRP pronoun, personal\n",
      "will ------> AUX MD verb, modal auxiliary\n",
      "google ------> VERB VB verb, base form\n",
      "about ------> ADP IN conjunction, subordinating or preposition\n",
      "facebook ------> PROPN NNP noun, proper singular\n"
     ]
    }
   ],
   "source": [
    "for word in doc:\n",
    "    print(word.text,\"------>\", word.pos_,word.tag_,spacy.explain(word.tag_))"
   ]
  },
  {
   "cell_type": "code",
   "execution_count": 10,
   "id": "0c82cd53",
   "metadata": {},
   "outputs": [
    {
     "name": "stdout",
     "output_type": "stream",
     "text": [
      "I ------> PRON PRP pronoun, personal\n",
      "left ------> VERB VBD verb, past tense\n",
      "the ------> DET DT determiner\n",
      "room ------> NOUN NN noun, singular or mass\n"
     ]
    }
   ],
   "source": [
    "doc2 = nlp(u\"I left the room\")\n",
    "for word in doc2:\n",
    "    print(word.text,\"------>\", word.pos_,word.tag_,spacy.explain(word.tag_))"
   ]
  },
  {
   "cell_type": "code",
   "execution_count": 11,
   "id": "e6801d5e",
   "metadata": {},
   "outputs": [
    {
     "name": "stdout",
     "output_type": "stream",
     "text": [
      "to ------> ADP IN conjunction, subordinating or preposition\n",
      "the ------> DET DT determiner\n",
      "left ------> NOUN NN noun, singular or mass\n",
      "of ------> ADP IN conjunction, subordinating or preposition\n",
      "the ------> DET DT determiner\n",
      "room ------> NOUN NN noun, singular or mass\n"
     ]
    }
   ],
   "source": [
    "doc3 = nlp(u\"to the left of the room\")\n",
    "for word in doc3:\n",
    "    print(word.text,\"------>\", word.pos_,word.tag_,spacy.explain(word.tag_))"
   ]
  },
  {
   "cell_type": "code",
   "execution_count": 12,
   "id": "1573dce5",
   "metadata": {},
   "outputs": [
    {
     "name": "stdout",
     "output_type": "stream",
     "text": [
      "I ------> PRON PRP pronoun, personal\n",
      "read ------> VERB VBP verb, non-3rd person singular present\n",
      "books ------> NOUN NNS noun, plural\n",
      "on ------> ADP IN conjunction, subordinating or preposition\n",
      "history ------> NOUN NN noun, singular or mass\n"
     ]
    }
   ],
   "source": [
    "doc4 = nlp(u\"I read books on history\")\n",
    "for word in doc4:\n",
    "    print(word.text,\"------>\", word.pos_,word.tag_,spacy.explain(word.tag_))"
   ]
  },
  {
   "cell_type": "code",
   "execution_count": 13,
   "id": "83f27e33",
   "metadata": {},
   "outputs": [
    {
     "name": "stdout",
     "output_type": "stream",
     "text": [
      "I ------> PRON PRP pronoun, personal\n",
      "have ------> AUX VBP verb, non-3rd person singular present\n",
      "read ------> VERB VBN verb, past participle\n",
      "a ------> DET DT determiner\n",
      "book ------> NOUN NN noun, singular or mass\n",
      "on ------> ADP IN conjunction, subordinating or preposition\n",
      "history ------> NOUN NN noun, singular or mass\n"
     ]
    }
   ],
   "source": [
    "doc5 = nlp(u\"I have read a book on history\")\n",
    "for word in doc5:\n",
    "    print(word.text,\"------>\", word.pos_,word.tag_,spacy.explain(word.tag_))"
   ]
  },
  {
   "cell_type": "code",
   "execution_count": 14,
   "id": "4e566e89",
   "metadata": {},
   "outputs": [],
   "source": [
    "doc6 = nlp(u\"The quick brown fox jumped over the lazy dog\")"
   ]
  },
  {
   "cell_type": "code",
   "execution_count": 15,
   "id": "4e5a8ae1",
   "metadata": {},
   "outputs": [],
   "source": [
    "from spacy import displacy"
   ]
  },
  {
   "cell_type": "code",
   "execution_count": 16,
   "id": "f2bd93f1",
   "metadata": {},
   "outputs": [],
   "source": [
    "# Without options\n",
    "html_default = displacy.render(doc6, style='dep', jupyter=False)\n",
    "with open(\"dep_default.html\", \"w\", encoding=\"utf-8\") as f:\n",
    "    f.write(html_default)"
   ]
  },
  {
   "cell_type": "code",
   "execution_count": 17,
   "id": "ca2a8295",
   "metadata": {},
   "outputs": [],
   "source": [
    "options={\n",
    "    'distance':80,\n",
    "    'compact':True,\n",
    "    'color':'#fff',\n",
    "    'bg':'#00a65a'\n",
    "}"
   ]
  },
  {
   "cell_type": "code",
   "execution_count": 18,
   "id": "e44bb79c",
   "metadata": {},
   "outputs": [],
   "source": [
    "html_custom = displacy.render(doc6, style='dep', jupyter=False, options=options)\n",
    "with open(\"dep_custom.html\", \"w\", encoding=\"utf-8\") as f:\n",
    "    f.write(html_custom)"
   ]
  },
  {
   "cell_type": "code",
   "execution_count": 19,
   "id": "226514da",
   "metadata": {},
   "outputs": [
    {
     "name": "stdout",
     "output_type": "stream",
     "text": [
      "✅ Saved 'dep_default.html' and 'dep_custom.html'\n"
     ]
    }
   ],
   "source": [
    "print(\"✅ Saved 'dep_default.html' and 'dep_custom.html'\")"
   ]
  }
 ],
 "metadata": {
  "kernelspec": {
   "display_name": "dsenv",
   "language": "python",
   "name": "python3"
  },
  "language_info": {
   "codemirror_mode": {
    "name": "ipython",
    "version": 3
   },
   "file_extension": ".py",
   "mimetype": "text/x-python",
   "name": "python",
   "nbconvert_exporter": "python",
   "pygments_lexer": "ipython3",
   "version": "3.11.13"
  }
 },
 "nbformat": 4,
 "nbformat_minor": 5
}
