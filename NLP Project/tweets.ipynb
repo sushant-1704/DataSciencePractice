{
 "cells": [
  {
   "cell_type": "markdown",
   "id": "7ff98828",
   "metadata": {},
   "source": [
    "## Data Loading and overview"
   ]
  },
  {
   "cell_type": "code",
   "execution_count": 1,
   "id": "7661d398",
   "metadata": {},
   "outputs": [],
   "source": [
    "import pandas as pd\n",
    "import numpy as np"
   ]
  },
  {
   "cell_type": "code",
   "execution_count": 2,
   "id": "5e076491",
   "metadata": {},
   "outputs": [
    {
     "data": {
      "text/html": [
       "<div>\n",
       "<style scoped>\n",
       "    .dataframe tbody tr th:only-of-type {\n",
       "        vertical-align: middle;\n",
       "    }\n",
       "\n",
       "    .dataframe tbody tr th {\n",
       "        vertical-align: top;\n",
       "    }\n",
       "\n",
       "    .dataframe thead th {\n",
       "        text-align: right;\n",
       "    }\n",
       "</style>\n",
       "<table border=\"1\" class=\"dataframe\">\n",
       "  <thead>\n",
       "    <tr style=\"text-align: right;\">\n",
       "      <th></th>\n",
       "      <th>id</th>\n",
       "      <th>keyword</th>\n",
       "      <th>location</th>\n",
       "      <th>text</th>\n",
       "      <th>target</th>\n",
       "    </tr>\n",
       "  </thead>\n",
       "  <tbody>\n",
       "    <tr>\n",
       "      <th>0</th>\n",
       "      <td>1</td>\n",
       "      <td>NaN</td>\n",
       "      <td>NaN</td>\n",
       "      <td>Our Deeds are the Reason of this #earthquake M...</td>\n",
       "      <td>1</td>\n",
       "    </tr>\n",
       "    <tr>\n",
       "      <th>1</th>\n",
       "      <td>4</td>\n",
       "      <td>NaN</td>\n",
       "      <td>NaN</td>\n",
       "      <td>Forest fire near La Ronge Sask. Canada</td>\n",
       "      <td>1</td>\n",
       "    </tr>\n",
       "    <tr>\n",
       "      <th>2</th>\n",
       "      <td>5</td>\n",
       "      <td>NaN</td>\n",
       "      <td>NaN</td>\n",
       "      <td>All residents asked to 'shelter in place' are ...</td>\n",
       "      <td>1</td>\n",
       "    </tr>\n",
       "    <tr>\n",
       "      <th>3</th>\n",
       "      <td>6</td>\n",
       "      <td>NaN</td>\n",
       "      <td>NaN</td>\n",
       "      <td>13,000 people receive #wildfires evacuation or...</td>\n",
       "      <td>1</td>\n",
       "    </tr>\n",
       "    <tr>\n",
       "      <th>4</th>\n",
       "      <td>7</td>\n",
       "      <td>NaN</td>\n",
       "      <td>NaN</td>\n",
       "      <td>Just got sent this photo from Ruby #Alaska as ...</td>\n",
       "      <td>1</td>\n",
       "    </tr>\n",
       "    <tr>\n",
       "      <th>...</th>\n",
       "      <td>...</td>\n",
       "      <td>...</td>\n",
       "      <td>...</td>\n",
       "      <td>...</td>\n",
       "      <td>...</td>\n",
       "    </tr>\n",
       "    <tr>\n",
       "      <th>7608</th>\n",
       "      <td>10869</td>\n",
       "      <td>NaN</td>\n",
       "      <td>NaN</td>\n",
       "      <td>Two giant cranes holding a bridge collapse int...</td>\n",
       "      <td>1</td>\n",
       "    </tr>\n",
       "    <tr>\n",
       "      <th>7609</th>\n",
       "      <td>10870</td>\n",
       "      <td>NaN</td>\n",
       "      <td>NaN</td>\n",
       "      <td>@aria_ahrary @TheTawniest The out of control w...</td>\n",
       "      <td>1</td>\n",
       "    </tr>\n",
       "    <tr>\n",
       "      <th>7610</th>\n",
       "      <td>10871</td>\n",
       "      <td>NaN</td>\n",
       "      <td>NaN</td>\n",
       "      <td>M1.94 [01:04 UTC]?5km S of Volcano Hawaii. htt...</td>\n",
       "      <td>1</td>\n",
       "    </tr>\n",
       "    <tr>\n",
       "      <th>7611</th>\n",
       "      <td>10872</td>\n",
       "      <td>NaN</td>\n",
       "      <td>NaN</td>\n",
       "      <td>Police investigating after an e-bike collided ...</td>\n",
       "      <td>1</td>\n",
       "    </tr>\n",
       "    <tr>\n",
       "      <th>7612</th>\n",
       "      <td>10873</td>\n",
       "      <td>NaN</td>\n",
       "      <td>NaN</td>\n",
       "      <td>The Latest: More Homes Razed by Northern Calif...</td>\n",
       "      <td>1</td>\n",
       "    </tr>\n",
       "  </tbody>\n",
       "</table>\n",
       "<p>7613 rows × 5 columns</p>\n",
       "</div>"
      ],
      "text/plain": [
       "         id keyword location  \\\n",
       "0         1     NaN      NaN   \n",
       "1         4     NaN      NaN   \n",
       "2         5     NaN      NaN   \n",
       "3         6     NaN      NaN   \n",
       "4         7     NaN      NaN   \n",
       "...     ...     ...      ...   \n",
       "7608  10869     NaN      NaN   \n",
       "7609  10870     NaN      NaN   \n",
       "7610  10871     NaN      NaN   \n",
       "7611  10872     NaN      NaN   \n",
       "7612  10873     NaN      NaN   \n",
       "\n",
       "                                                   text  target  \n",
       "0     Our Deeds are the Reason of this #earthquake M...       1  \n",
       "1                Forest fire near La Ronge Sask. Canada       1  \n",
       "2     All residents asked to 'shelter in place' are ...       1  \n",
       "3     13,000 people receive #wildfires evacuation or...       1  \n",
       "4     Just got sent this photo from Ruby #Alaska as ...       1  \n",
       "...                                                 ...     ...  \n",
       "7608  Two giant cranes holding a bridge collapse int...       1  \n",
       "7609  @aria_ahrary @TheTawniest The out of control w...       1  \n",
       "7610  M1.94 [01:04 UTC]?5km S of Volcano Hawaii. htt...       1  \n",
       "7611  Police investigating after an e-bike collided ...       1  \n",
       "7612  The Latest: More Homes Razed by Northern Calif...       1  \n",
       "\n",
       "[7613 rows x 5 columns]"
      ]
     },
     "execution_count": 2,
     "metadata": {},
     "output_type": "execute_result"
    }
   ],
   "source": [
    "df_train = pd.read_csv('train.csv')\n",
    "df_train"
   ]
  },
  {
   "cell_type": "code",
   "execution_count": 3,
   "id": "59ebd9a6",
   "metadata": {},
   "outputs": [
    {
     "data": {
      "text/html": [
       "<div>\n",
       "<style scoped>\n",
       "    .dataframe tbody tr th:only-of-type {\n",
       "        vertical-align: middle;\n",
       "    }\n",
       "\n",
       "    .dataframe tbody tr th {\n",
       "        vertical-align: top;\n",
       "    }\n",
       "\n",
       "    .dataframe thead th {\n",
       "        text-align: right;\n",
       "    }\n",
       "</style>\n",
       "<table border=\"1\" class=\"dataframe\">\n",
       "  <thead>\n",
       "    <tr style=\"text-align: right;\">\n",
       "      <th></th>\n",
       "      <th>id</th>\n",
       "      <th>keyword</th>\n",
       "      <th>location</th>\n",
       "      <th>text</th>\n",
       "    </tr>\n",
       "  </thead>\n",
       "  <tbody>\n",
       "    <tr>\n",
       "      <th>0</th>\n",
       "      <td>0</td>\n",
       "      <td>NaN</td>\n",
       "      <td>NaN</td>\n",
       "      <td>Just happened a terrible car crash</td>\n",
       "    </tr>\n",
       "    <tr>\n",
       "      <th>1</th>\n",
       "      <td>2</td>\n",
       "      <td>NaN</td>\n",
       "      <td>NaN</td>\n",
       "      <td>Heard about #earthquake is different cities, s...</td>\n",
       "    </tr>\n",
       "    <tr>\n",
       "      <th>2</th>\n",
       "      <td>3</td>\n",
       "      <td>NaN</td>\n",
       "      <td>NaN</td>\n",
       "      <td>there is a forest fire at spot pond, geese are...</td>\n",
       "    </tr>\n",
       "    <tr>\n",
       "      <th>3</th>\n",
       "      <td>9</td>\n",
       "      <td>NaN</td>\n",
       "      <td>NaN</td>\n",
       "      <td>Apocalypse lighting. #Spokane #wildfires</td>\n",
       "    </tr>\n",
       "    <tr>\n",
       "      <th>4</th>\n",
       "      <td>11</td>\n",
       "      <td>NaN</td>\n",
       "      <td>NaN</td>\n",
       "      <td>Typhoon Soudelor kills 28 in China and Taiwan</td>\n",
       "    </tr>\n",
       "    <tr>\n",
       "      <th>...</th>\n",
       "      <td>...</td>\n",
       "      <td>...</td>\n",
       "      <td>...</td>\n",
       "      <td>...</td>\n",
       "    </tr>\n",
       "    <tr>\n",
       "      <th>3258</th>\n",
       "      <td>10861</td>\n",
       "      <td>NaN</td>\n",
       "      <td>NaN</td>\n",
       "      <td>EARTHQUAKE SAFETY LOS ANGELES ÛÒ SAFETY FASTE...</td>\n",
       "    </tr>\n",
       "    <tr>\n",
       "      <th>3259</th>\n",
       "      <td>10865</td>\n",
       "      <td>NaN</td>\n",
       "      <td>NaN</td>\n",
       "      <td>Storm in RI worse than last hurricane. My city...</td>\n",
       "    </tr>\n",
       "    <tr>\n",
       "      <th>3260</th>\n",
       "      <td>10868</td>\n",
       "      <td>NaN</td>\n",
       "      <td>NaN</td>\n",
       "      <td>Green Line derailment in Chicago http://t.co/U...</td>\n",
       "    </tr>\n",
       "    <tr>\n",
       "      <th>3261</th>\n",
       "      <td>10874</td>\n",
       "      <td>NaN</td>\n",
       "      <td>NaN</td>\n",
       "      <td>MEG issues Hazardous Weather Outlook (HWO) htt...</td>\n",
       "    </tr>\n",
       "    <tr>\n",
       "      <th>3262</th>\n",
       "      <td>10875</td>\n",
       "      <td>NaN</td>\n",
       "      <td>NaN</td>\n",
       "      <td>#CityofCalgary has activated its Municipal Eme...</td>\n",
       "    </tr>\n",
       "  </tbody>\n",
       "</table>\n",
       "<p>3263 rows × 4 columns</p>\n",
       "</div>"
      ],
      "text/plain": [
       "         id keyword location  \\\n",
       "0         0     NaN      NaN   \n",
       "1         2     NaN      NaN   \n",
       "2         3     NaN      NaN   \n",
       "3         9     NaN      NaN   \n",
       "4        11     NaN      NaN   \n",
       "...     ...     ...      ...   \n",
       "3258  10861     NaN      NaN   \n",
       "3259  10865     NaN      NaN   \n",
       "3260  10868     NaN      NaN   \n",
       "3261  10874     NaN      NaN   \n",
       "3262  10875     NaN      NaN   \n",
       "\n",
       "                                                   text  \n",
       "0                    Just happened a terrible car crash  \n",
       "1     Heard about #earthquake is different cities, s...  \n",
       "2     there is a forest fire at spot pond, geese are...  \n",
       "3              Apocalypse lighting. #Spokane #wildfires  \n",
       "4         Typhoon Soudelor kills 28 in China and Taiwan  \n",
       "...                                                 ...  \n",
       "3258  EARTHQUAKE SAFETY LOS ANGELES ÛÒ SAFETY FASTE...  \n",
       "3259  Storm in RI worse than last hurricane. My city...  \n",
       "3260  Green Line derailment in Chicago http://t.co/U...  \n",
       "3261  MEG issues Hazardous Weather Outlook (HWO) htt...  \n",
       "3262  #CityofCalgary has activated its Municipal Eme...  \n",
       "\n",
       "[3263 rows x 4 columns]"
      ]
     },
     "execution_count": 3,
     "metadata": {},
     "output_type": "execute_result"
    }
   ],
   "source": [
    "df_test = pd.read_csv('test.csv')\n",
    "df_test"
   ]
  },
  {
   "cell_type": "code",
   "execution_count": 4,
   "id": "ebb78cd0",
   "metadata": {},
   "outputs": [
    {
     "data": {
      "text/html": [
       "<div>\n",
       "<style scoped>\n",
       "    .dataframe tbody tr th:only-of-type {\n",
       "        vertical-align: middle;\n",
       "    }\n",
       "\n",
       "    .dataframe tbody tr th {\n",
       "        vertical-align: top;\n",
       "    }\n",
       "\n",
       "    .dataframe thead th {\n",
       "        text-align: right;\n",
       "    }\n",
       "</style>\n",
       "<table border=\"1\" class=\"dataframe\">\n",
       "  <thead>\n",
       "    <tr style=\"text-align: right;\">\n",
       "      <th></th>\n",
       "      <th>id</th>\n",
       "      <th>keyword</th>\n",
       "      <th>location</th>\n",
       "      <th>text</th>\n",
       "      <th>target</th>\n",
       "    </tr>\n",
       "  </thead>\n",
       "  <tbody>\n",
       "    <tr>\n",
       "      <th>0</th>\n",
       "      <td>False</td>\n",
       "      <td>True</td>\n",
       "      <td>True</td>\n",
       "      <td>False</td>\n",
       "      <td>False</td>\n",
       "    </tr>\n",
       "    <tr>\n",
       "      <th>1</th>\n",
       "      <td>False</td>\n",
       "      <td>True</td>\n",
       "      <td>True</td>\n",
       "      <td>False</td>\n",
       "      <td>False</td>\n",
       "    </tr>\n",
       "    <tr>\n",
       "      <th>2</th>\n",
       "      <td>False</td>\n",
       "      <td>True</td>\n",
       "      <td>True</td>\n",
       "      <td>False</td>\n",
       "      <td>False</td>\n",
       "    </tr>\n",
       "    <tr>\n",
       "      <th>3</th>\n",
       "      <td>False</td>\n",
       "      <td>True</td>\n",
       "      <td>True</td>\n",
       "      <td>False</td>\n",
       "      <td>False</td>\n",
       "    </tr>\n",
       "    <tr>\n",
       "      <th>4</th>\n",
       "      <td>False</td>\n",
       "      <td>True</td>\n",
       "      <td>True</td>\n",
       "      <td>False</td>\n",
       "      <td>False</td>\n",
       "    </tr>\n",
       "    <tr>\n",
       "      <th>...</th>\n",
       "      <td>...</td>\n",
       "      <td>...</td>\n",
       "      <td>...</td>\n",
       "      <td>...</td>\n",
       "      <td>...</td>\n",
       "    </tr>\n",
       "    <tr>\n",
       "      <th>7608</th>\n",
       "      <td>False</td>\n",
       "      <td>True</td>\n",
       "      <td>True</td>\n",
       "      <td>False</td>\n",
       "      <td>False</td>\n",
       "    </tr>\n",
       "    <tr>\n",
       "      <th>7609</th>\n",
       "      <td>False</td>\n",
       "      <td>True</td>\n",
       "      <td>True</td>\n",
       "      <td>False</td>\n",
       "      <td>False</td>\n",
       "    </tr>\n",
       "    <tr>\n",
       "      <th>7610</th>\n",
       "      <td>False</td>\n",
       "      <td>True</td>\n",
       "      <td>True</td>\n",
       "      <td>False</td>\n",
       "      <td>False</td>\n",
       "    </tr>\n",
       "    <tr>\n",
       "      <th>7611</th>\n",
       "      <td>False</td>\n",
       "      <td>True</td>\n",
       "      <td>True</td>\n",
       "      <td>False</td>\n",
       "      <td>False</td>\n",
       "    </tr>\n",
       "    <tr>\n",
       "      <th>7612</th>\n",
       "      <td>False</td>\n",
       "      <td>True</td>\n",
       "      <td>True</td>\n",
       "      <td>False</td>\n",
       "      <td>False</td>\n",
       "    </tr>\n",
       "  </tbody>\n",
       "</table>\n",
       "<p>7613 rows × 5 columns</p>\n",
       "</div>"
      ],
      "text/plain": [
       "         id  keyword  location   text  target\n",
       "0     False     True      True  False   False\n",
       "1     False     True      True  False   False\n",
       "2     False     True      True  False   False\n",
       "3     False     True      True  False   False\n",
       "4     False     True      True  False   False\n",
       "...     ...      ...       ...    ...     ...\n",
       "7608  False     True      True  False   False\n",
       "7609  False     True      True  False   False\n",
       "7610  False     True      True  False   False\n",
       "7611  False     True      True  False   False\n",
       "7612  False     True      True  False   False\n",
       "\n",
       "[7613 rows x 5 columns]"
      ]
     },
     "execution_count": 4,
     "metadata": {},
     "output_type": "execute_result"
    }
   ],
   "source": [
    "df_train.isnull()"
   ]
  },
  {
   "cell_type": "code",
   "execution_count": 5,
   "id": "1831e1be",
   "metadata": {},
   "outputs": [
    {
     "data": {
      "text/html": [
       "<div>\n",
       "<style scoped>\n",
       "    .dataframe tbody tr th:only-of-type {\n",
       "        vertical-align: middle;\n",
       "    }\n",
       "\n",
       "    .dataframe tbody tr th {\n",
       "        vertical-align: top;\n",
       "    }\n",
       "\n",
       "    .dataframe thead th {\n",
       "        text-align: right;\n",
       "    }\n",
       "</style>\n",
       "<table border=\"1\" class=\"dataframe\">\n",
       "  <thead>\n",
       "    <tr style=\"text-align: right;\">\n",
       "      <th></th>\n",
       "      <th>id</th>\n",
       "      <th>keyword</th>\n",
       "      <th>location</th>\n",
       "      <th>text</th>\n",
       "    </tr>\n",
       "  </thead>\n",
       "  <tbody>\n",
       "    <tr>\n",
       "      <th>0</th>\n",
       "      <td>False</td>\n",
       "      <td>True</td>\n",
       "      <td>True</td>\n",
       "      <td>False</td>\n",
       "    </tr>\n",
       "    <tr>\n",
       "      <th>1</th>\n",
       "      <td>False</td>\n",
       "      <td>True</td>\n",
       "      <td>True</td>\n",
       "      <td>False</td>\n",
       "    </tr>\n",
       "    <tr>\n",
       "      <th>2</th>\n",
       "      <td>False</td>\n",
       "      <td>True</td>\n",
       "      <td>True</td>\n",
       "      <td>False</td>\n",
       "    </tr>\n",
       "    <tr>\n",
       "      <th>3</th>\n",
       "      <td>False</td>\n",
       "      <td>True</td>\n",
       "      <td>True</td>\n",
       "      <td>False</td>\n",
       "    </tr>\n",
       "    <tr>\n",
       "      <th>4</th>\n",
       "      <td>False</td>\n",
       "      <td>True</td>\n",
       "      <td>True</td>\n",
       "      <td>False</td>\n",
       "    </tr>\n",
       "    <tr>\n",
       "      <th>...</th>\n",
       "      <td>...</td>\n",
       "      <td>...</td>\n",
       "      <td>...</td>\n",
       "      <td>...</td>\n",
       "    </tr>\n",
       "    <tr>\n",
       "      <th>3258</th>\n",
       "      <td>False</td>\n",
       "      <td>True</td>\n",
       "      <td>True</td>\n",
       "      <td>False</td>\n",
       "    </tr>\n",
       "    <tr>\n",
       "      <th>3259</th>\n",
       "      <td>False</td>\n",
       "      <td>True</td>\n",
       "      <td>True</td>\n",
       "      <td>False</td>\n",
       "    </tr>\n",
       "    <tr>\n",
       "      <th>3260</th>\n",
       "      <td>False</td>\n",
       "      <td>True</td>\n",
       "      <td>True</td>\n",
       "      <td>False</td>\n",
       "    </tr>\n",
       "    <tr>\n",
       "      <th>3261</th>\n",
       "      <td>False</td>\n",
       "      <td>True</td>\n",
       "      <td>True</td>\n",
       "      <td>False</td>\n",
       "    </tr>\n",
       "    <tr>\n",
       "      <th>3262</th>\n",
       "      <td>False</td>\n",
       "      <td>True</td>\n",
       "      <td>True</td>\n",
       "      <td>False</td>\n",
       "    </tr>\n",
       "  </tbody>\n",
       "</table>\n",
       "<p>3263 rows × 4 columns</p>\n",
       "</div>"
      ],
      "text/plain": [
       "         id  keyword  location   text\n",
       "0     False     True      True  False\n",
       "1     False     True      True  False\n",
       "2     False     True      True  False\n",
       "3     False     True      True  False\n",
       "4     False     True      True  False\n",
       "...     ...      ...       ...    ...\n",
       "3258  False     True      True  False\n",
       "3259  False     True      True  False\n",
       "3260  False     True      True  False\n",
       "3261  False     True      True  False\n",
       "3262  False     True      True  False\n",
       "\n",
       "[3263 rows x 4 columns]"
      ]
     },
     "execution_count": 5,
     "metadata": {},
     "output_type": "execute_result"
    }
   ],
   "source": [
    "df_test.isnull()"
   ]
  },
  {
   "cell_type": "code",
   "execution_count": 6,
   "id": "3d35208d",
   "metadata": {},
   "outputs": [
    {
     "data": {
      "text/plain": [
       "id             0\n",
       "keyword       61\n",
       "location    2533\n",
       "text           0\n",
       "target         0\n",
       "dtype: int64"
      ]
     },
     "execution_count": 6,
     "metadata": {},
     "output_type": "execute_result"
    }
   ],
   "source": [
    "df_train.isnull().sum()"
   ]
  },
  {
   "cell_type": "code",
   "execution_count": 7,
   "id": "f75ecefd",
   "metadata": {},
   "outputs": [
    {
     "data": {
      "text/plain": [
       "id             0\n",
       "keyword       26\n",
       "location    1105\n",
       "text           0\n",
       "dtype: int64"
      ]
     },
     "execution_count": 7,
     "metadata": {},
     "output_type": "execute_result"
    }
   ],
   "source": [
    "df_test.isnull().sum()"
   ]
  },
  {
   "cell_type": "code",
   "execution_count": 8,
   "id": "b67fadcd",
   "metadata": {},
   "outputs": [
    {
     "data": {
      "text/plain": [
       "np.int64(2594)"
      ]
     },
     "execution_count": 8,
     "metadata": {},
     "output_type": "execute_result"
    }
   ],
   "source": [
    "df_train.isnull().sum().sum()"
   ]
  },
  {
   "cell_type": "code",
   "execution_count": 9,
   "id": "c77a8d11",
   "metadata": {},
   "outputs": [
    {
     "data": {
      "text/plain": [
       "np.int64(1131)"
      ]
     },
     "execution_count": 9,
     "metadata": {},
     "output_type": "execute_result"
    }
   ],
   "source": [
    "df_test.isnull().sum().sum()"
   ]
  },
  {
   "cell_type": "code",
   "execution_count": 10,
   "id": "c7831b4e",
   "metadata": {},
   "outputs": [],
   "source": [
    "df_train.drop(['id','keyword','location'], axis=1, inplace=True)"
   ]
  },
  {
   "cell_type": "code",
   "execution_count": 11,
   "id": "6714fad2",
   "metadata": {},
   "outputs": [],
   "source": [
    "df_test.drop(['id','keyword','location'], axis=1, inplace=True)"
   ]
  },
  {
   "cell_type": "code",
   "execution_count": 12,
   "id": "ff6aa26e",
   "metadata": {},
   "outputs": [
    {
     "data": {
      "text/html": [
       "<div>\n",
       "<style scoped>\n",
       "    .dataframe tbody tr th:only-of-type {\n",
       "        vertical-align: middle;\n",
       "    }\n",
       "\n",
       "    .dataframe tbody tr th {\n",
       "        vertical-align: top;\n",
       "    }\n",
       "\n",
       "    .dataframe thead th {\n",
       "        text-align: right;\n",
       "    }\n",
       "</style>\n",
       "<table border=\"1\" class=\"dataframe\">\n",
       "  <thead>\n",
       "    <tr style=\"text-align: right;\">\n",
       "      <th></th>\n",
       "      <th>text</th>\n",
       "      <th>target</th>\n",
       "    </tr>\n",
       "  </thead>\n",
       "  <tbody>\n",
       "    <tr>\n",
       "      <th>0</th>\n",
       "      <td>Our Deeds are the Reason of this #earthquake M...</td>\n",
       "      <td>1</td>\n",
       "    </tr>\n",
       "    <tr>\n",
       "      <th>1</th>\n",
       "      <td>Forest fire near La Ronge Sask. Canada</td>\n",
       "      <td>1</td>\n",
       "    </tr>\n",
       "    <tr>\n",
       "      <th>2</th>\n",
       "      <td>All residents asked to 'shelter in place' are ...</td>\n",
       "      <td>1</td>\n",
       "    </tr>\n",
       "    <tr>\n",
       "      <th>3</th>\n",
       "      <td>13,000 people receive #wildfires evacuation or...</td>\n",
       "      <td>1</td>\n",
       "    </tr>\n",
       "    <tr>\n",
       "      <th>4</th>\n",
       "      <td>Just got sent this photo from Ruby #Alaska as ...</td>\n",
       "      <td>1</td>\n",
       "    </tr>\n",
       "  </tbody>\n",
       "</table>\n",
       "</div>"
      ],
      "text/plain": [
       "                                                text  target\n",
       "0  Our Deeds are the Reason of this #earthquake M...       1\n",
       "1             Forest fire near La Ronge Sask. Canada       1\n",
       "2  All residents asked to 'shelter in place' are ...       1\n",
       "3  13,000 people receive #wildfires evacuation or...       1\n",
       "4  Just got sent this photo from Ruby #Alaska as ...       1"
      ]
     },
     "execution_count": 12,
     "metadata": {},
     "output_type": "execute_result"
    }
   ],
   "source": [
    "df_train.head()"
   ]
  },
  {
   "cell_type": "code",
   "execution_count": 13,
   "id": "d13ae1cb",
   "metadata": {},
   "outputs": [
    {
     "data": {
      "text/html": [
       "<div>\n",
       "<style scoped>\n",
       "    .dataframe tbody tr th:only-of-type {\n",
       "        vertical-align: middle;\n",
       "    }\n",
       "\n",
       "    .dataframe tbody tr th {\n",
       "        vertical-align: top;\n",
       "    }\n",
       "\n",
       "    .dataframe thead th {\n",
       "        text-align: right;\n",
       "    }\n",
       "</style>\n",
       "<table border=\"1\" class=\"dataframe\">\n",
       "  <thead>\n",
       "    <tr style=\"text-align: right;\">\n",
       "      <th></th>\n",
       "      <th>text</th>\n",
       "    </tr>\n",
       "  </thead>\n",
       "  <tbody>\n",
       "    <tr>\n",
       "      <th>0</th>\n",
       "      <td>Just happened a terrible car crash</td>\n",
       "    </tr>\n",
       "    <tr>\n",
       "      <th>1</th>\n",
       "      <td>Heard about #earthquake is different cities, s...</td>\n",
       "    </tr>\n",
       "    <tr>\n",
       "      <th>2</th>\n",
       "      <td>there is a forest fire at spot pond, geese are...</td>\n",
       "    </tr>\n",
       "    <tr>\n",
       "      <th>3</th>\n",
       "      <td>Apocalypse lighting. #Spokane #wildfires</td>\n",
       "    </tr>\n",
       "    <tr>\n",
       "      <th>4</th>\n",
       "      <td>Typhoon Soudelor kills 28 in China and Taiwan</td>\n",
       "    </tr>\n",
       "  </tbody>\n",
       "</table>\n",
       "</div>"
      ],
      "text/plain": [
       "                                                text\n",
       "0                 Just happened a terrible car crash\n",
       "1  Heard about #earthquake is different cities, s...\n",
       "2  there is a forest fire at spot pond, geese are...\n",
       "3           Apocalypse lighting. #Spokane #wildfires\n",
       "4      Typhoon Soudelor kills 28 in China and Taiwan"
      ]
     },
     "execution_count": 13,
     "metadata": {},
     "output_type": "execute_result"
    }
   ],
   "source": [
    "df_test.head()"
   ]
  },
  {
   "cell_type": "code",
   "execution_count": 14,
   "id": "4dc0031d",
   "metadata": {},
   "outputs": [
    {
     "data": {
      "text/plain": [
       "text      0\n",
       "target    0\n",
       "dtype: int64"
      ]
     },
     "execution_count": 14,
     "metadata": {},
     "output_type": "execute_result"
    }
   ],
   "source": [
    "df_train.isnull().sum()"
   ]
  },
  {
   "cell_type": "code",
   "execution_count": 15,
   "id": "f528a72d",
   "metadata": {},
   "outputs": [
    {
     "data": {
      "text/plain": [
       "text    0\n",
       "dtype: int64"
      ]
     },
     "execution_count": 15,
     "metadata": {},
     "output_type": "execute_result"
    }
   ],
   "source": [
    "df_test.isnull().sum()"
   ]
  },
  {
   "cell_type": "code",
   "execution_count": 16,
   "id": "2e4b4e67",
   "metadata": {},
   "outputs": [
    {
     "data": {
      "text/plain": [
       "text      object\n",
       "target     int64\n",
       "dtype: object"
      ]
     },
     "execution_count": 16,
     "metadata": {},
     "output_type": "execute_result"
    }
   ],
   "source": [
    "df_train.dtypes"
   ]
  },
  {
   "cell_type": "code",
   "execution_count": 17,
   "id": "d6f3a3e4",
   "metadata": {},
   "outputs": [
    {
     "data": {
      "text/plain": [
       "text    object\n",
       "dtype: object"
      ]
     },
     "execution_count": 17,
     "metadata": {},
     "output_type": "execute_result"
    }
   ],
   "source": [
    "df_test.dtypes"
   ]
  },
  {
   "cell_type": "markdown",
   "id": "90516105",
   "metadata": {},
   "source": [
    "## Data Preprocessing"
   ]
  },
  {
   "cell_type": "code",
   "execution_count": 18,
   "id": "3cceab6c",
   "metadata": {},
   "outputs": [
    {
     "data": {
      "text/plain": [
       "0       Our Deeds are the Reason of this #earthquake M...\n",
       "1                  Forest fire near La Ronge Sask. Canada\n",
       "2       All residents asked to 'shelter in place' are ...\n",
       "3       13,000 people receive #wildfires evacuation or...\n",
       "4       Just got sent this photo from Ruby #Alaska as ...\n",
       "                              ...                        \n",
       "7608    Two giant cranes holding a bridge collapse int...\n",
       "7609    @aria_ahrary @TheTawniest The out of control w...\n",
       "7610    M1.94 [01:04 UTC]?5km S of Volcano Hawaii. htt...\n",
       "7611    Police investigating after an e-bike collided ...\n",
       "7612    The Latest: More Homes Razed by Northern Calif...\n",
       "Name: text, Length: 7613, dtype: object"
      ]
     },
     "execution_count": 18,
     "metadata": {},
     "output_type": "execute_result"
    }
   ],
   "source": [
    "df_train['text']"
   ]
  },
  {
   "cell_type": "code",
   "execution_count": 19,
   "id": "69aa43f7",
   "metadata": {},
   "outputs": [
    {
     "data": {
      "text/plain": [
       "0                      Just happened a terrible car crash\n",
       "1       Heard about #earthquake is different cities, s...\n",
       "2       there is a forest fire at spot pond, geese are...\n",
       "3                Apocalypse lighting. #Spokane #wildfires\n",
       "4           Typhoon Soudelor kills 28 in China and Taiwan\n",
       "                              ...                        \n",
       "3258    EARTHQUAKE SAFETY LOS ANGELES ÛÒ SAFETY FASTE...\n",
       "3259    Storm in RI worse than last hurricane. My city...\n",
       "3260    Green Line derailment in Chicago http://t.co/U...\n",
       "3261    MEG issues Hazardous Weather Outlook (HWO) htt...\n",
       "3262    #CityofCalgary has activated its Municipal Eme...\n",
       "Name: text, Length: 3263, dtype: object"
      ]
     },
     "execution_count": 19,
     "metadata": {},
     "output_type": "execute_result"
    }
   ],
   "source": [
    "df_test['text']"
   ]
  },
  {
   "cell_type": "code",
   "execution_count": 20,
   "id": "726dc30b",
   "metadata": {},
   "outputs": [
    {
     "data": {
      "text/plain": [
       "(0       our deeds are the reason of this #earthquake m...\n",
       " 1                  forest fire near la ronge sask. canada\n",
       " 2       all residents asked to 'shelter in place' are ...\n",
       " 3       13,000 people receive #wildfires evacuation or...\n",
       " 4       just got sent this photo from ruby #alaska as ...\n",
       "                               ...                        \n",
       " 7608    two giant cranes holding a bridge collapse int...\n",
       " 7609    @aria_ahrary @thetawniest the out of control w...\n",
       " 7610    m1.94 [01:04 utc]?5km s of volcano hawaii. htt...\n",
       " 7611    police investigating after an e-bike collided ...\n",
       " 7612    the latest: more homes razed by northern calif...\n",
       " Name: text, Length: 7613, dtype: object,\n",
       " 0                      just happened a terrible car crash\n",
       " 1       heard about #earthquake is different cities, s...\n",
       " 2       there is a forest fire at spot pond, geese are...\n",
       " 3                apocalypse lighting. #spokane #wildfires\n",
       " 4           typhoon soudelor kills 28 in china and taiwan\n",
       "                               ...                        \n",
       " 3258    earthquake safety los angeles ûò safety faste...\n",
       " 3259    storm in ri worse than last hurricane. my city...\n",
       " 3260    green line derailment in chicago http://t.co/u...\n",
       " 3261    meg issues hazardous weather outlook (hwo) htt...\n",
       " 3262    #cityofcalgary has activated its municipal eme...\n",
       " Name: text, Length: 3263, dtype: object)"
      ]
     },
     "execution_count": 20,
     "metadata": {},
     "output_type": "execute_result"
    }
   ],
   "source": [
    "# lowercasing\n",
    "\n",
    "df_train['text'] = df_train['text'].str.lower()\n",
    "df_test['text'] = df_test['text'].str.lower()\n",
    "\n",
    "(df_train['text'], df_test['text'])"
   ]
  },
  {
   "cell_type": "code",
   "execution_count": 21,
   "id": "80075304",
   "metadata": {},
   "outputs": [
    {
     "data": {
      "text/plain": [
       "(0       our deeds are the reason of this #earthquake m...\n",
       " 1                  forest fire near la ronge sask. canada\n",
       " 2       all residents asked to 'shelter in place' are ...\n",
       " 3       13,000 people receive #wildfires evacuation or...\n",
       " 4       just got sent this photo from ruby #alaska as ...\n",
       "                               ...                        \n",
       " 7608    two giant cranes holding a bridge collapse int...\n",
       " 7609    @aria_ahrary @thetawniest the out of control w...\n",
       " 7610    m1.94 [01:04 utc]?5km s of volcano hawaii. htt...\n",
       " 7611    police investigating after an e-bike collided ...\n",
       " 7612    the latest: more homes razed by northern calif...\n",
       " Name: text, Length: 7613, dtype: object,\n",
       " 0                      just happened a terrible car crash\n",
       " 1       heard about #earthquake is different cities, s...\n",
       " 2       there is a forest fire at spot pond, geese are...\n",
       " 3                apocalypse lighting. #spokane #wildfires\n",
       " 4           typhoon soudelor kills 28 in china and taiwan\n",
       "                               ...                        \n",
       " 3258    earthquake safety los angeles ûò safety faste...\n",
       " 3259    storm in ri worse than last hurricane. my city...\n",
       " 3260    green line derailment in chicago http://t.co/u...\n",
       " 3261    meg issues hazardous weather outlook (hwo) htt...\n",
       " 3262    #cityofcalgary has activated its municipal eme...\n",
       " Name: text, Length: 3263, dtype: object)"
      ]
     },
     "execution_count": 21,
     "metadata": {},
     "output_type": "execute_result"
    }
   ],
   "source": [
    "# remove html tags\n",
    "\n",
    "import re\n",
    "\n",
    "df_train['text'] = df_train['text'].apply(lambda x: re.sub(r'<.*?>', '', x))\n",
    "df_test['text'] = df_test['text'].apply(lambda x: re.sub(r'<.*?>', '', x))\n",
    "\n",
    "(df_train['text'], df_test['text'])"
   ]
  },
  {
   "cell_type": "code",
   "execution_count": 22,
   "id": "3eaa74dd",
   "metadata": {},
   "outputs": [
    {
     "data": {
      "text/plain": [
       "(0       our deeds are the reason of this #earthquake m...\n",
       " 1                  forest fire near la ronge sask. canada\n",
       " 2       all residents asked to 'shelter in place' are ...\n",
       " 3       13,000 people receive #wildfires evacuation or...\n",
       " 4       just got sent this photo from ruby #alaska as ...\n",
       "                               ...                        \n",
       " 7608    two giant cranes holding a bridge collapse int...\n",
       " 7609    @aria_ahrary @thetawniest the out of control w...\n",
       " 7610          m1.94 [01:04 utc]?5km s of volcano hawaii. \n",
       " 7611    police investigating after an e-bike collided ...\n",
       " 7612    the latest: more homes razed by northern calif...\n",
       " Name: text, Length: 7613, dtype: object,\n",
       " 0                      just happened a terrible car crash\n",
       " 1       heard about #earthquake is different cities, s...\n",
       " 2       there is a forest fire at spot pond, geese are...\n",
       " 3                apocalypse lighting. #spokane #wildfires\n",
       " 4           typhoon soudelor kills 28 in china and taiwan\n",
       "                               ...                        \n",
       " 3258    earthquake safety los angeles ûò safety faste...\n",
       " 3259    storm in ri worse than last hurricane. my city...\n",
       " 3260                    green line derailment in chicago \n",
       " 3261          meg issues hazardous weather outlook (hwo) \n",
       " 3262    #cityofcalgary has activated its municipal eme...\n",
       " Name: text, Length: 3263, dtype: object)"
      ]
     },
     "execution_count": 22,
     "metadata": {},
     "output_type": "execute_result"
    }
   ],
   "source": [
    "# remove URLs\n",
    "\n",
    "import re\n",
    "\n",
    "df_train['text'] = df_train['text'].apply(lambda x: re.sub(r'http\\S+|www\\S+|https\\S+', '', x))\n",
    "df_test['text'] = df_test['text'].apply(lambda x: re.sub(r'http\\S+|www\\S+|https\\S+', '', x))\n",
    "\n",
    "(df_train['text'], df_test['text'])"
   ]
  },
  {
   "cell_type": "code",
   "execution_count": 23,
   "id": "80ad5773",
   "metadata": {},
   "outputs": [
    {
     "data": {
      "text/plain": [
       "(0       our deeds are the reason of this earthquake ma...\n",
       " 1                  forest fire near la ronge sask. canada\n",
       " 2       all residents asked to 'shelter in place' are ...\n",
       " 3       13,000 people receive wildfires evacuation ord...\n",
       " 4       just got sent this photo from ruby alaska as s...\n",
       "                               ...                        \n",
       " 7608    two giant cranes holding a bridge collapse int...\n",
       " 7609      the out of control wild fires in california ...\n",
       " 7610          m1.94 [01:04 utc]?5km s of volcano hawaii. \n",
       " 7611    police investigating after an e-bike collided ...\n",
       " 7612    the latest: more homes razed by northern calif...\n",
       " Name: text, Length: 7613, dtype: object,\n",
       " 0                      just happened a terrible car crash\n",
       " 1       heard about earthquake is different cities, st...\n",
       " 2       there is a forest fire at spot pond, geese are...\n",
       " 3                  apocalypse lighting. spokane wildfires\n",
       " 4           typhoon soudelor kills 28 in china and taiwan\n",
       "                               ...                        \n",
       " 3258    earthquake safety los angeles ûò safety faste...\n",
       " 3259    storm in ri worse than last hurricane. my city...\n",
       " 3260                    green line derailment in chicago \n",
       " 3261          meg issues hazardous weather outlook (hwo) \n",
       " 3262    cityofcalgary has activated its municipal emer...\n",
       " Name: text, Length: 3263, dtype: object)"
      ]
     },
     "execution_count": 23,
     "metadata": {},
     "output_type": "execute_result"
    }
   ],
   "source": [
    "# remove @mentions and '#' symbol\n",
    "\n",
    "df_train['text'] = df_train['text'].apply(lambda x: re.sub(r'@\\w+', '', x))\n",
    "df_test['text'] = df_test['text'].apply(lambda x: re.sub(r'@\\w+', '', x))\n",
    "\n",
    "df_train['text'] = df_train['text'].apply(lambda x: re.sub(r'#', '', x))\n",
    "df_test['text'] = df_test['text'].apply(lambda x: re.sub(r'#', '', x))\n",
    "\n",
    "(df_train['text'], df_test['text'])\n"
   ]
  },
  {
   "cell_type": "code",
   "execution_count": 24,
   "id": "fcdd7ef3",
   "metadata": {},
   "outputs": [
    {
     "data": {
      "text/plain": [
       "(0       our deeds are the reason of this earthquake ma...\n",
       " 1                   forest fire near la ronge sask canada\n",
       " 2       all residents asked to shelter in place are be...\n",
       " 3        people receive wildfires evacuation orders in...\n",
       " 4       just got sent this photo from ruby alaska as s...\n",
       "                               ...                        \n",
       " 7608    two giant cranes holding a bridge collapse int...\n",
       " 7609      the out of control wild fires in california ...\n",
       " 7610                        m  utckm s of volcano hawaii \n",
       " 7611    police investigating after an ebike collided w...\n",
       " 7612    the latest more homes razed by northern califo...\n",
       " Name: text, Length: 7613, dtype: object,\n",
       " 0                      just happened a terrible car crash\n",
       " 1       heard about earthquake is different cities sta...\n",
       " 2       there is a forest fire at spot pond geese are ...\n",
       " 3                   apocalypse lighting spokane wildfires\n",
       " 4             typhoon soudelor kills  in china and taiwan\n",
       "                               ...                        \n",
       " 3258    earthquake safety los angeles  safety fastener...\n",
       " 3259    storm in ri worse than last hurricane my citya...\n",
       " 3260                    green line derailment in chicago \n",
       " 3261            meg issues hazardous weather outlook hwo \n",
       " 3262    cityofcalgary has activated its municipal emer...\n",
       " Name: text, Length: 3263, dtype: object)"
      ]
     },
     "execution_count": 24,
     "metadata": {},
     "output_type": "execute_result"
    }
   ],
   "source": [
    "# remove punctuations and numbers\n",
    "\n",
    "import string\n",
    "\n",
    "df_train['text'] = df_train['text'].apply(lambda x: re.sub(r'[^a-zA-Z\\s]', '', x))\n",
    "df_test['text'] = df_test['text'].apply(lambda x: re.sub(r'[^a-zA-Z\\s]', '', x))\n",
    "\n",
    "(df_train['text'], df_test['text'])"
   ]
  },
  {
   "cell_type": "code",
   "execution_count": 25,
   "id": "367d297b",
   "metadata": {},
   "outputs": [
    {
     "data": {
      "text/plain": [
       "(0       our deeds are the reason of this earthquake ma...\n",
       " 1                   forest fire near la ronge sask canada\n",
       " 2       all residents asked to shelter in place are be...\n",
       " 3       people receive wildfires evacuation orders in ...\n",
       " 4       just got sent this photo from ruby alaska as s...\n",
       "                               ...                        \n",
       " 7608    two giant cranes holding a bridge collapse int...\n",
       " 7609    the out of control wild fires in california ev...\n",
       " 7610                          m utckm s of volcano hawaii\n",
       " 7611    police investigating after an ebike collided w...\n",
       " 7612    the latest more homes razed by northern califo...\n",
       " Name: text, Length: 7613, dtype: object,\n",
       " 0                      just happened a terrible car crash\n",
       " 1       heard about earthquake is different cities sta...\n",
       " 2       there is a forest fire at spot pond geese are ...\n",
       " 3                   apocalypse lighting spokane wildfires\n",
       " 4              typhoon soudelor kills in china and taiwan\n",
       "                               ...                        \n",
       " 3258    earthquake safety los angeles safety fasteners...\n",
       " 3259    storm in ri worse than last hurricane my citya...\n",
       " 3260                     green line derailment in chicago\n",
       " 3261             meg issues hazardous weather outlook hwo\n",
       " 3262    cityofcalgary has activated its municipal emer...\n",
       " Name: text, Length: 3263, dtype: object)"
      ]
     },
     "execution_count": 25,
     "metadata": {},
     "output_type": "execute_result"
    }
   ],
   "source": [
    "# remove extra whitespaces\n",
    "\n",
    "df_train['text'] = df_train['text'].apply(lambda x: re.sub(r'\\s+', ' ', x).strip())\n",
    "df_test['text'] = df_test['text'].apply(lambda x: re.sub(r'\\s+', ' ', x).strip())\n",
    "\n",
    "(df_train['text'], df_test['text'])"
   ]
  },
  {
   "cell_type": "code",
   "execution_count": 26,
   "id": "c6bf3f62",
   "metadata": {},
   "outputs": [
    {
     "name": "stderr",
     "output_type": "stream",
     "text": [
      "c:\\Users\\Sushant Shankar\\.conda\\envs\\dsenv\\Lib\\site-packages\\nltk\\metrics\\association.py:26: UserWarning: A NumPy version >=1.22.4 and <2.3.0 is required for this version of SciPy (detected version 2.3.2)\n",
      "  from scipy.stats import fisher_exact\n",
      "[nltk_data] Downloading package punkt to C:\\Users\\Sushant\n",
      "[nltk_data]     Shankar\\AppData\\Roaming\\nltk_data...\n",
      "[nltk_data]   Package punkt is already up-to-date!\n"
     ]
    },
    {
     "data": {
      "text/plain": [
       "(0       [our, deeds, are, the, reason, of, this, earth...\n",
       " 1           [forest, fire, near, la, ronge, sask, canada]\n",
       " 2       [all, residents, asked, to, shelter, in, place...\n",
       " 3       [people, receive, wildfires, evacuation, order...\n",
       " 4       [just, got, sent, this, photo, from, ruby, ala...\n",
       "                               ...                        \n",
       " 7608    [two, giant, cranes, holding, a, bridge, colla...\n",
       " 7609    [the, out, of, control, wild, fires, in, calif...\n",
       " 7610                   [m, utckm, s, of, volcano, hawaii]\n",
       " 7611    [police, investigating, after, an, ebike, coll...\n",
       " 7612    [the, latest, more, homes, razed, by, northern...\n",
       " Name: text, Length: 7613, dtype: object,\n",
       " 0               [just, happened, a, terrible, car, crash]\n",
       " 1       [heard, about, earthquake, is, different, citi...\n",
       " 2       [there, is, a, forest, fire, at, spot, pond, g...\n",
       " 3              [apocalypse, lighting, spokane, wildfires]\n",
       " 4       [typhoon, soudelor, kills, in, china, and, tai...\n",
       "                               ...                        \n",
       " 3258    [earthquake, safety, los, angeles, safety, fas...\n",
       " 3259    [storm, in, ri, worse, than, last, hurricane, ...\n",
       " 3260               [green, line, derailment, in, chicago]\n",
       " 3261      [meg, issues, hazardous, weather, outlook, hwo]\n",
       " 3262    [cityofcalgary, has, activated, its, municipal...\n",
       " Name: text, Length: 3263, dtype: object)"
      ]
     },
     "execution_count": 26,
     "metadata": {},
     "output_type": "execute_result"
    }
   ],
   "source": [
    "# tokenization\n",
    "\n",
    "from nltk.tokenize import word_tokenize\n",
    "import nltk\n",
    "nltk.download('punkt')\n",
    "\n",
    "df_train['text'] = df_train['text'].apply(lambda x: word_tokenize(x))\n",
    "df_test['text'] = df_test['text'].apply(lambda x: word_tokenize(x))\n",
    "\n",
    "(df_train['text'], df_test['text'])"
   ]
  },
  {
   "cell_type": "code",
   "execution_count": 27,
   "id": "5dad2778",
   "metadata": {},
   "outputs": [
    {
     "name": "stderr",
     "output_type": "stream",
     "text": [
      "[nltk_data] Downloading package stopwords to C:\\Users\\Sushant\n",
      "[nltk_data]     Shankar\\AppData\\Roaming\\nltk_data...\n",
      "[nltk_data]   Package stopwords is already up-to-date!\n"
     ]
    },
    {
     "data": {
      "text/plain": [
       "(0       [deeds, reason, earthquake, may, allah, forgiv...\n",
       " 1           [forest, fire, near, la, ronge, sask, canada]\n",
       " 2       [residents, asked, shelter, place, notified, o...\n",
       " 3       [people, receive, wildfires, evacuation, order...\n",
       " 4       [got, sent, photo, ruby, alaska, smoke, wildfi...\n",
       "                               ...                        \n",
       " 7608    [two, giant, cranes, holding, bridge, collapse...\n",
       " 7609    [control, wild, fires, california, even, north...\n",
       " 7610                             [utckm, volcano, hawaii]\n",
       " 7611    [police, investigating, ebike, collided, car, ...\n",
       " 7612    [latest, homes, razed, northern, california, w...\n",
       " Name: text, Length: 7613, dtype: object,\n",
       " 0                        [happened, terrible, car, crash]\n",
       " 1       [heard, earthquake, different, cities, stay, s...\n",
       " 2       [forest, fire, spot, pond, geese, fleeing, acr...\n",
       " 3              [apocalypse, lighting, spokane, wildfires]\n",
       " 4               [typhoon, soudelor, kills, china, taiwan]\n",
       "                               ...                        \n",
       " 3258    [earthquake, safety, los, angeles, safety, fas...\n",
       " 3259    [storm, ri, worse, last, hurricane, cityampoth...\n",
       " 3260                   [green, line, derailment, chicago]\n",
       " 3261      [meg, issues, hazardous, weather, outlook, hwo]\n",
       " 3262    [cityofcalgary, activated, municipal, emergenc...\n",
       " Name: text, Length: 3263, dtype: object)"
      ]
     },
     "execution_count": 27,
     "metadata": {},
     "output_type": "execute_result"
    }
   ],
   "source": [
    "# stopwords removal\n",
    "\n",
    "from nltk.corpus import stopwords\n",
    "nltk.download('stopwords')\n",
    "stop_words = set(stopwords.words('english'))\n",
    "\n",
    "df_train['text'] = df_train['text'].apply(lambda x: [word for word in x if word not in stop_words])\n",
    "df_test['text'] = df_test['text'].apply(lambda x: [word for word in x if word not in stop_words])\n",
    "\n",
    "(df_train['text'], df_test['text'])"
   ]
  },
  {
   "cell_type": "code",
   "execution_count": 28,
   "id": "2327972f",
   "metadata": {},
   "outputs": [
    {
     "name": "stderr",
     "output_type": "stream",
     "text": [
      "[nltk_data] Downloading package wordnet to C:\\Users\\Sushant\n",
      "[nltk_data]     Shankar\\AppData\\Roaming\\nltk_data...\n",
      "[nltk_data]   Package wordnet is already up-to-date!\n",
      "[nltk_data] Downloading package omw-1.4 to C:\\Users\\Sushant\n",
      "[nltk_data]     Shankar\\AppData\\Roaming\\nltk_data...\n",
      "[nltk_data]   Package omw-1.4 is already up-to-date!\n"
     ]
    },
    {
     "data": {
      "text/plain": [
       "(0       [deed, reason, earthquake, may, allah, forgive...\n",
       " 1           [forest, fire, near, la, ronge, sask, canada]\n",
       " 2       [resident, asked, shelter, place, notified, of...\n",
       " 3       [people, receive, wildfire, evacuation, order,...\n",
       " 4       [got, sent, photo, ruby, alaska, smoke, wildfi...\n",
       "                               ...                        \n",
       " 7608    [two, giant, crane, holding, bridge, collapse,...\n",
       " 7609    [control, wild, fire, california, even, northe...\n",
       " 7610                             [utckm, volcano, hawaii]\n",
       " 7611    [police, investigating, ebike, collided, car, ...\n",
       " 7612    [latest, home, razed, northern, california, wi...\n",
       " Name: text, Length: 7613, dtype: object,\n",
       " 0                        [happened, terrible, car, crash]\n",
       " 1       [heard, earthquake, different, city, stay, saf...\n",
       " 2       [forest, fire, spot, pond, goose, fleeing, acr...\n",
       " 3               [apocalypse, lighting, spokane, wildfire]\n",
       " 4                [typhoon, soudelor, kill, china, taiwan]\n",
       "                               ...                        \n",
       " 3258    [earthquake, safety, los, angeles, safety, fas...\n",
       " 3259    [storm, ri, worse, last, hurricane, cityampoth...\n",
       " 3260                   [green, line, derailment, chicago]\n",
       " 3261       [meg, issue, hazardous, weather, outlook, hwo]\n",
       " 3262    [cityofcalgary, activated, municipal, emergenc...\n",
       " Name: text, Length: 3263, dtype: object)"
      ]
     },
     "execution_count": 28,
     "metadata": {},
     "output_type": "execute_result"
    }
   ],
   "source": [
    "# lemmatization (normalize words like \"running\" → \"run\")\n",
    "\n",
    "from nltk.stem import WordNetLemmatizer\n",
    "nltk.download('wordnet')\n",
    "nltk.download('omw-1.4')\n",
    "\n",
    "lemmatizer = WordNetLemmatizer()\n",
    "\n",
    "df_train['text'] = df_train['text'].apply(lambda x: [lemmatizer.lemmatize(word) for word in x])\n",
    "df_test['text'] = df_test['text'].apply(lambda x: [lemmatizer.lemmatize(word) for word in x])\n",
    "\n",
    "(df_train['text'], df_test['text'])"
   ]
  },
  {
   "cell_type": "code",
   "execution_count": 29,
   "id": "37869a25",
   "metadata": {},
   "outputs": [
    {
     "data": {
      "text/plain": [
       "(0              deed reason earthquake may allah forgive u\n",
       " 1                   forest fire near la ronge sask canada\n",
       " 2       resident asked shelter place notified officer ...\n",
       " 3       people receive wildfire evacuation order calif...\n",
       " 4       got sent photo ruby alaska smoke wildfire pour...\n",
       "                               ...                        \n",
       " 7608    two giant crane holding bridge collapse nearby...\n",
       " 7609    control wild fire california even northern par...\n",
       " 7610                                 utckm volcano hawaii\n",
       " 7611    police investigating ebike collided car little...\n",
       " 7612    latest home razed northern california wildfire...\n",
       " Name: text, Length: 7613, dtype: object,\n",
       " 0                             happened terrible car crash\n",
       " 1       heard earthquake different city stay safe ever...\n",
       " 2       forest fire spot pond goose fleeing across str...\n",
       " 3                    apocalypse lighting spokane wildfire\n",
       " 4                      typhoon soudelor kill china taiwan\n",
       "                               ...                        \n",
       " 3258    earthquake safety los angeles safety fastener ...\n",
       " 3259    storm ri worse last hurricane cityampothers ha...\n",
       " 3260                        green line derailment chicago\n",
       " 3261              meg issue hazardous weather outlook hwo\n",
       " 3262    cityofcalgary activated municipal emergency pl...\n",
       " Name: text, Length: 3263, dtype: object)"
      ]
     },
     "execution_count": 29,
     "metadata": {},
     "output_type": "execute_result"
    }
   ],
   "source": [
    "# join back tokens into sentence\n",
    "\n",
    "df_train['text'] = df_train['text'].apply(lambda x: ' '.join(x))\n",
    "df_test['text'] = df_test['text'].apply(lambda x: ' '.join(x))\n",
    "\n",
    "(df_train['text'], df_test['text'])"
   ]
  },
  {
   "cell_type": "markdown",
   "id": "5a516535",
   "metadata": {},
   "source": [
    "## Feature Extraction"
   ]
  },
  {
   "cell_type": "code",
   "execution_count": 30,
   "id": "1d242311",
   "metadata": {},
   "outputs": [],
   "source": [
    "# using TF-IDF\n",
    "\n",
    "from sklearn.feature_extraction.text import TfidfVectorizer"
   ]
  },
  {
   "cell_type": "code",
   "execution_count": 31,
   "id": "a6eaab01",
   "metadata": {},
   "outputs": [],
   "source": [
    "# initialize tf-idf vectorizer\n",
    "\n",
    "tfidf = TfidfVectorizer(\n",
    "    max_features=5000,   # keep top 5000 words\n",
    "    ngram_range=(1,2),   # unigrams + bigrams\n",
    "    stop_words='english' # extra stopword removal\n",
    ")"
   ]
  },
  {
   "cell_type": "code",
   "execution_count": 32,
   "id": "802a0a34",
   "metadata": {},
   "outputs": [],
   "source": [
    "# Fit only on training data and transform\n",
    "X_train = tfidf.fit_transform(df_train['text'])\n",
    "\n",
    "# Target labels\n",
    "y_train = df_train['target']"
   ]
  },
  {
   "cell_type": "code",
   "execution_count": 33,
   "id": "38ee2e1e",
   "metadata": {},
   "outputs": [],
   "source": [
    "# Transform test data using same vocabulary\n",
    "X_test = tfidf.transform(df_test['text'])"
   ]
  },
  {
   "cell_type": "code",
   "execution_count": 34,
   "id": "5771d55b",
   "metadata": {},
   "outputs": [
    {
     "name": "stdout",
     "output_type": "stream",
     "text": [
      "Train shape: (7613, 5000)\n",
      "Test shape: (3263, 5000)\n"
     ]
    }
   ],
   "source": [
    "print(\"Train shape:\", X_train.shape)\n",
    "print(\"Test shape:\", X_test.shape)"
   ]
  },
  {
   "cell_type": "markdown",
   "id": "3cf384fe",
   "metadata": {},
   "source": [
    "## Model Building"
   ]
  },
  {
   "cell_type": "code",
   "execution_count": 37,
   "id": "b790a21f",
   "metadata": {},
   "outputs": [
    {
     "name": "stdout",
     "output_type": "stream",
     "text": [
      "✅ Logistic Regression model trained!\n",
      "First 20 Predictions (Logistic Regression):\n",
      "[1 1 1 1 1 1 0 0 0 0 0 0 0 0 0 1 0 1 0 0]\n",
      "[[0.234328   0.765672  ]\n",
      " [0.35799271 0.64200729]\n",
      " [0.32722528 0.67277472]\n",
      " ...\n",
      " [0.25576822 0.74423178]\n",
      " [0.31336189 0.68663811]\n",
      " [0.41144018 0.58855982]]\n"
     ]
    }
   ],
   "source": [
    "# ---------------- Logistic Regression ----------------\n",
    "from sklearn.linear_model import LogisticRegression\n",
    "\n",
    "# Initialize Logistic Regression model\n",
    "log_reg = LogisticRegression(max_iter=1000, random_state=42)\n",
    "\n",
    "# Fit on training data\n",
    "log_reg.fit(X_train, y_train)\n",
    "\n",
    "# Predict on test data\n",
    "y_pred_log = log_reg.predict(X_test)\n",
    "\n",
    "# Predict probabilities\n",
    "y_proba_log = log_reg.predict_proba(X_test)\n",
    "\n",
    "# Show predictions\n",
    "print(\"✅ Logistic Regression model trained!\")\n",
    "print(\"First 20 Predictions (Logistic Regression):\")\n",
    "print(y_pred_log[:20])\n",
    "print(y_proba_log)"
   ]
  },
  {
   "cell_type": "code",
   "execution_count": null,
   "id": "cbe3c439",
   "metadata": {},
   "outputs": [
    {
     "name": "stdout",
     "output_type": "stream",
     "text": [
      "✅ Naive Bayes model trained!\n",
      "First 20 Predictions (Naive Bayes):\n",
      "[0 0 1 1 1 1 0 0 0 0 0 0 0 0 0 1 0 1 0 0]\n",
      "[[1. 0.]\n",
      " [1. 0.]\n",
      " [0. 1.]\n",
      " ...\n",
      " [0. 1.]\n",
      " [0. 1.]\n",
      " [0. 1.]]\n"
     ]
    }
   ],
   "source": [
    "# ---------------- Naive Bayes ----------------\n",
    "from sklearn.naive_bayes import GaussianNB\n",
    "\n",
    "# Initialize Naive Bayes model\n",
    "nb = GaussianNB()\n",
    "\n",
    "# Convert sparse matrices to dense\n",
    "X_train_dense = X_train.toarray()\n",
    "X_test_dense = X_test.toarray()\n",
    "\n",
    "# Fit on training data\n",
    "nb.fit(X_train_dense, y_train)\n",
    "\n",
    "# Predict on test data\n",
    "y_pred_nb = nb.predict(X_test_dense)\n",
    "\n",
    "# Predict probabilities\n",
    "y_proba_nb = nb.predict_proba(X_test_dense)\n",
    "\n",
    "# Show predictions\n",
    "print(\"✅ Naive Bayes model trained!\")\n",
    "print(\"First 20 Predictions (Naive Bayes):\")\n",
    "print(y_pred_nb[:20])\n",
    "print(y_proba_nb)"
   ]
  },
  {
   "cell_type": "code",
   "execution_count": 45,
   "id": "c535dfaa",
   "metadata": {},
   "outputs": [
    {
     "name": "stdout",
     "output_type": "stream",
     "text": [
      "Validation Accuracy: 0.7931713722915299\n",
      "Classification Report:\n",
      "               precision    recall  f1-score   support\n",
      "\n",
      "           0       0.78      0.88      0.83       874\n",
      "           1       0.81      0.67      0.74       649\n",
      "\n",
      "    accuracy                           0.79      1523\n",
      "   macro avg       0.80      0.78      0.78      1523\n",
      "weighted avg       0.79      0.79      0.79      1523\n",
      "\n"
     ]
    }
   ],
   "source": [
    "# ---------------- Logistic Regression Validation ----------------\n",
    "from sklearn.linear_model import LogisticRegression\n",
    "from sklearn.model_selection import train_test_split\n",
    "from sklearn.metrics import accuracy_score, classification_report\n",
    "\n",
    "# Split train data into train + validation\n",
    "X_tr, X_val, y_tr, y_val = train_test_split(X_train, y_train, test_size=0.2, random_state=42)\n",
    "\n",
    "# Initialize Logistic Regression model\n",
    "log_reg = LogisticRegression(max_iter=1000, random_state=42)\n",
    "\n",
    "# Fit on training subset\n",
    "log_reg.fit(X_tr, y_tr)\n",
    "\n",
    "# Predict on validation set\n",
    "y_val_pred_lr = log_reg.predict(X_val)\n",
    "\n",
    "# Evaluate\n",
    "print(\"Validation Accuracy:\", accuracy_score(y_val, y_val_pred_lr))\n",
    "print(\"Classification Report:\\n\", classification_report(y_val, y_val_pred_lr))\n"
   ]
  },
  {
   "cell_type": "code",
   "execution_count": 43,
   "id": "7a4b2e5b",
   "metadata": {},
   "outputs": [
    {
     "name": "stdout",
     "output_type": "stream",
     "text": [
      "Validation Accuracy: 0.7544320420223244\n",
      "Classification Report:\n",
      "               precision    recall  f1-score   support\n",
      "\n",
      "           0       0.75      0.86      0.80       874\n",
      "           1       0.77      0.61      0.68       649\n",
      "\n",
      "    accuracy                           0.75      1523\n",
      "   macro avg       0.76      0.74      0.74      1523\n",
      "weighted avg       0.76      0.75      0.75      1523\n",
      "\n"
     ]
    }
   ],
   "source": [
    "# ---------------- Naive Bayes Validation ----------------\n",
    "\n",
    "from sklearn.model_selection import train_test_split\n",
    "\n",
    "# Split train data into train + validation\n",
    "X_tr, X_val, y_tr, y_val = train_test_split(X_train, y_train, test_size=0.2, random_state=42)\n",
    "\n",
    "# Fit model\n",
    "nb = GaussianNB()\n",
    "nb.fit(X_tr.toarray(), y_tr)\n",
    "\n",
    "# Predict on validation set\n",
    "y_val_pred_nb = nb.predict(X_val.toarray())\n",
    "\n",
    "# Evaluate\n",
    "from sklearn.metrics import accuracy_score, classification_report\n",
    "\n",
    "print(\"Validation Accuracy:\", accuracy_score(y_val, y_val_pred_nb))\n",
    "print(\"Classification Report:\\n\", classification_report(y_val, y_val_pred_nb))\n"
   ]
  },
  {
   "cell_type": "code",
   "execution_count": 52,
   "id": "7f03ca82",
   "metadata": {},
   "outputs": [
    {
     "data": {
      "image/png": "[encoded data removed]",
      "text/plain": [
       "<Figure size 800x500 with 2 Axes>"
      ]
     },
     "metadata": {},
     "output_type": "display_data"
    }
   ],
   "source": [
    "import matplotlib.pyplot as plt\n",
    "import seaborn as sns\n",
    "\n",
    "plt.figure(figsize=(8,5))\n",
    "\n",
    "# Histogram of Logistic Regression predictions\n",
    "plt.subplot(1,2,1)\n",
    "sns.countplot(x=y_val_pred_lr)\n",
    "plt.title(\"Logistic Regression Predictions\")\n",
    "plt.xlabel(\"Class\")\n",
    "plt.ylabel(\"Count\")\n",
    "\n",
    "# Histogram of Naive Bayes predictions\n",
    "plt.subplot(1,2,2)\n",
    "sns.countplot(x=y_val_pred_nb)\n",
    "plt.title(\"Gaussian Naive Bayes Predictions\")\n",
    "plt.xlabel(\"Class\")\n",
    "plt.ylabel(\"Count\")\n",
    "\n",
    "plt.tight_layout()\n",
    "plt.show()\n"
   ]
  },
  {
   "cell_type": "code",
   "execution_count": 50,
   "id": "93f07b16",
   "metadata": {},
   "outputs": [
    {
     "name": "stdout",
     "output_type": "stream",
     "text": [
      "Logistic Regression Validation Accuracy: 0.7931713722915299\n",
      "Naive Bayes Validation Accuracy: 0.7544320420223244\n"
     ]
    }
   ],
   "source": [
    "# accuracy\n",
    "\n",
    "from sklearn.metrics import accuracy_score\n",
    "\n",
    "# Compute accuracy\n",
    "acc_lr = accuracy_score(y_val, y_val_pred_lr)\n",
    "acc_nb = accuracy_score(y_val, y_val_pred_nb)\n",
    "\n",
    "# Print accuracies\n",
    "print(\"Logistic Regression Validation Accuracy:\", acc_lr)\n",
    "print(\"Naive Bayes Validation Accuracy:\", acc_nb)"
   ]
  }
 ],
 "metadata": {
  "kernelspec": {
   "display_name": "dsenv",
   "language": "python",
   "name": "python3"
  },
  "language_info": {
   "codemirror_mode": {
    "name": "ipython",
    "version": 3
   },
   "file_extension": ".py",
   "mimetype": "text/x-python",
   "name": "python",
   "nbconvert_exporter": "python",
   "pygments_lexer": "ipython3",
   "version": "3.11.13"
  }
 },
 "nbformat": 4,
 "nbformat_minor": 5
}
